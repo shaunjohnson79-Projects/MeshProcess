{
 "cells": [
  {
   "cell_type": "code",
   "execution_count": 19,
   "metadata": {},
   "outputs": [],
   "source": [
    "import numpy as np\n",
    "import re"
   ]
  },
  {
   "cell_type": "code",
   "execution_count": 20,
   "metadata": {},
   "outputs": [],
   "source": [
    "tempLines = np.load(\"tempData.npy\")"
   ]
  },
  {
   "cell_type": "code",
   "execution_count": 21,
   "metadata": {},
   "outputs": [
    {
     "name": "stdout",
     "output_type": "stream",
     "text": [
      "['GRID           1       0398.0063111.0105-.360-15       0               0        \\n'\n",
      " 'GRID           2       0288.833316.5890351.40000       0               0        \\n'\n",
      " 'GRID           3       0392.888659.97629.2062-08       0               0        \\n'\n",
      " ...\n",
      " 'GRID      271489       014.7348153.8218646.17890       0               0        \\n'\n",
      " 'GRID      271490       0224.702118.4115978.74021       0               0        \\n'\n",
      " 'GRID      271491       0258.358918.39150-75.1739       0               0        \\n']\n",
      "class:  ndarray\n",
      "shape:  (271491,)\n",
      "strides:  (324,)\n",
      "itemsize:  324\n",
      "aligned:  True\n",
      "contiguous:  True\n",
      "fortran:  True\n",
      "data pointer: 0x28d2dc000\n",
      "byteorder:  little\n",
      "byteswap:  False\n",
      "type: <U81\n"
     ]
    }
   ],
   "source": [
    "print(tempLines)\n",
    "np.info(tempLines)"
   ]
  },
  {
   "cell_type": "code",
   "execution_count": 22,
   "metadata": {},
   "outputs": [],
   "source": [
    "tempLines=np.core.defchararray.replace(tempLines,\"\\n\",'', count=None)"
   ]
  },
  {
   "cell_type": "code",
   "execution_count": 23,
   "metadata": {},
   "outputs": [],
   "source": [
    "#tempLines=tempLines[0:10]"
   ]
  },
  {
   "cell_type": "code",
   "execution_count": 24,
   "metadata": {},
   "outputs": [
    {
     "name": "stdout",
     "output_type": "stream",
     "text": [
      "[['GRID' '1       ' '0398.006' ... '15' '0' '0']\n",
      " ['GRID' '2       ' '0288.833' ... '0' '0' '0']\n",
      " ['GRID' '3       ' '0392.888' ... '08' '0' '0']\n",
      " ...\n",
      " ['GRID' '271489' '014.7348' ... '0' '0' '0']\n",
      " ['GRID' '271490' '0224.702' ... '1' '0' '0']\n",
      " ['GRID' '271491' '0258.358' ... '75.1739' '0' '0']]\n"
     ]
    }
   ],
   "source": [
    "import textwrap\n",
    "width = 8\n",
    "\n",
    "\n",
    "tempLinesSlow = np.array([[substring for substring in textwrap.wrap(string, width)] for string in tempLines])\n",
    "print(tempLinesSlow)"
   ]
  },
  {
   "cell_type": "code",
   "execution_count": 35,
   "metadata": {},
   "outputs": [
    {
     "name": "stdout",
     "output_type": "stream",
     "text": [
      "[271491, 10.0]\n"
     ]
    }
   ],
   "source": [
    "width=8\n",
    "NOC=int(np.dtype(tempLines.dtype).itemsize/4)\n",
    "\n",
    "\n",
    "if (NOC % width) == 0:\n",
    "    pass\n",
    "else:\n",
    "    print(f\"problems\")\n",
    "\n",
    "arraySize=[np.size(tempLines),int(NOC/width)]\n",
    "print(arraySize)"
   ]
  },
  {
   "cell_type": "code",
   "execution_count": 28,
   "metadata": {},
   "outputs": [
    {
     "name": "stdout",
     "output_type": "stream",
     "text": [
      "<U80\n",
      "['GRID           1       0398.0063111.0105-.360-15       0               0        '\n",
      " 'GRID           2       0288.833316.5890351.40000       0               0        '\n",
      " 'GRID           3       0392.888659.97629.2062-08       0               0        '\n",
      " ...\n",
      " 'GRID      271489       014.7348153.8218646.17890       0               0        '\n",
      " 'GRID      271490       0224.702118.4115978.74021       0               0        '\n",
      " 'GRID      271491       0258.358918.39150-75.1739       0               0        ']\n"
     ]
    }
   ],
   "source": [
    "width = 8\n",
    "\n",
    "\n",
    "\n",
    "\n",
    "tempLines2 = np.array([string[i:i+width] for string in tempLines for i in range(0, len(string), width)], dtype='U8')\n",
    "tempLines2=np.reshape(tempLines2,[np.size(tempLines),10])\n",
    "print(tempLines)"
   ]
  },
  {
   "cell_type": "code",
   "execution_count": 34,
   "metadata": {},
   "outputs": [
    {
     "name": "stdout",
     "output_type": "stream",
     "text": [
      "80\n",
      "0\n"
     ]
    }
   ],
   "source": [
    "\n",
    "\n"
   ]
  },
  {
   "cell_type": "code",
   "execution_count": null,
   "metadata": {},
   "outputs": [],
   "source": [
    "np.size(tempLines)"
   ]
  },
  {
   "cell_type": "code",
   "execution_count": null,
   "metadata": {},
   "outputs": [],
   "source": [
    "\n",
    "print(tempLines.size)\n",
    "print(tempLines.size//width)\n",
    "new_array = np.split(tempLines, tempLines.size//width)\n",
    "print(new_array)"
   ]
  },
  {
   "cell_type": "code",
   "execution_count": null,
   "metadata": {},
   "outputs": [],
   "source": [
    "width = 8\n",
    "new_shape = (tempLines.size//width, width)\n",
    "print(new_shape)\n",
    "tempLines3 = tempLines.reshape(new_shape)\n",
    "print(tempLines3)"
   ]
  },
  {
   "cell_type": "code",
   "execution_count": null,
   "metadata": {},
   "outputs": [],
   "source": [
    "width = 8\n",
    "substrings = re.findall('.{'+str(width)+'}',tempLines)"
   ]
  },
  {
   "cell_type": "code",
   "execution_count": null,
   "metadata": {},
   "outputs": [],
   "source": []
  },
  {
   "cell_type": "code",
   "execution_count": null,
   "metadata": {},
   "outputs": [],
   "source": [
    "#tempLine3=np.array_split(tempLine,[8,16,24,32,40,48],axis=0)\n",
    "#tempLines3=np.array_split(tempLines,10,axis=0)\n",
    "#tempLines3=np.hsplit(tempLines,10)\n",
    "#tempLines3=np.char.split(tempLines3)\n",
    "#np,genfromtxt(tempLine)\n",
    "#np.char.encode(tempLines, encoding='UTF-8')\n",
    "#substrings = np.array_split(tempLines, len(tempLines) // 8)\n",
    "substrings = np.array(tempLines.split(\"\",width))"
   ]
  },
  {
   "cell_type": "code",
   "execution_count": null,
   "metadata": {},
   "outputs": [],
   "source": [
    "string = \"Lorem ipsum dolor sit amet, consectetur adipiscing elit.\"\n",
    "\n",
    "print(substrings)"
   ]
  },
  {
   "cell_type": "code",
   "execution_count": null,
   "metadata": {},
   "outputs": [],
   "source": [
    "\n",
    "\n",
    "\n",
    "for i, line in np.ndenumerate(tempLines):\n",
    "    #print(type(line))\n",
    "    data = struct.unpack(format_string, line)\n",
    "    print(data)"
   ]
  },
  {
   "cell_type": "code",
   "execution_count": null,
   "metadata": {},
   "outputs": [],
   "source": [
    "format_string = \"8s5i5f\"\n",
    "\n",
    "# Unpack the string using the format string\n",
    "for i, line in np.ndenumerate(tempLines):\n",
    "    data = np.genfromtxt(line,dtype=format_string, delimiter=[8,8,8,8,8,8,8,8,8,8])"
   ]
  },
  {
   "cell_type": "code",
   "execution_count": null,
   "metadata": {},
   "outputs": [],
   "source": []
  }
 ],
 "metadata": {
  "kernelspec": {
   "display_name": ".venv_NAS",
   "language": "python",
   "name": "python3"
  },
  "language_info": {
   "codemirror_mode": {
    "name": "ipython",
    "version": 3
   },
   "file_extension": ".py",
   "mimetype": "text/x-python",
   "name": "python",
   "nbconvert_exporter": "python",
   "pygments_lexer": "ipython3",
   "version": "3.11.1"
  },
  "orig_nbformat": 4,
  "vscode": {
   "interpreter": {
    "hash": "938a8b4cc067138558cafff885bdbecd4ec2e1fc53bd87378d4386c29fc1f9db"
   }
  }
 },
 "nbformat": 4,
 "nbformat_minor": 2
}
