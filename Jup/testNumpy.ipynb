{
 "cells": [
  {
   "cell_type": "code",
   "execution_count": 1,
   "metadata": {},
   "outputs": [],
   "source": [
    "import numpy as np\n",
    "import re"
   ]
  },
  {
   "cell_type": "code",
   "execution_count": 2,
   "metadata": {},
   "outputs": [],
   "source": [
    "tempLines = np.load(\"tempData.npy\")"
   ]
  },
  {
   "cell_type": "code",
   "execution_count": 3,
   "metadata": {},
   "outputs": [
    {
     "name": "stdout",
     "output_type": "stream",
     "text": [
      "['GRID           1       0398.0063111.0105-.360-15       0               0        \\n'\n",
      " 'GRID           2       0288.833316.5890351.40000       0               0        \\n'\n",
      " 'GRID           3       0392.888659.97629.2062-08       0               0        \\n'\n",
      " ...\n",
      " 'GRID      271489       014.7348153.8218646.17890       0               0        \\n'\n",
      " 'GRID      271490       0224.702118.4115978.74021       0               0        \\n'\n",
      " 'GRID      271491       0258.358918.39150-75.1739       0               0        \\n']\n",
      "class:  ndarray\n",
      "shape:  (271491,)\n",
      "strides:  (324,)\n",
      "itemsize:  324\n",
      "aligned:  True\n",
      "contiguous:  True\n",
      "fortran:  True\n",
      "data pointer: 0x160000000\n",
      "byteorder:  little\n",
      "byteswap:  False\n",
      "type: <U81\n"
     ]
    }
   ],
   "source": [
    "print(tempLines)\n",
    "np.info(tempLines)"
   ]
  },
  {
   "cell_type": "code",
   "execution_count": 4,
   "metadata": {},
   "outputs": [],
   "source": [
    "tempLines=np.core.defchararray.replace(tempLines,\"\\n\",'', count=None)"
   ]
  },
  {
   "cell_type": "code",
   "execution_count": 5,
   "metadata": {},
   "outputs": [],
   "source": [
    "#import textwrap\n",
    "#width = 8\n",
    "#tempLinesSlow = np.array([[substring for substring in textwrap.wrap(string, width)] for string in tempLines])\n",
    "#print(tempLinesSlow)"
   ]
  },
  {
   "cell_type": "code",
   "execution_count": 6,
   "metadata": {},
   "outputs": [],
   "source": [
    "width=8\n",
    "NOC=int(np.dtype(tempLines.dtype).itemsize/4)\n",
    "if (NOC % width) == 0:\n",
    "    pass\n",
    "else:\n",
    "    print(f\"problems\")\n",
    "arraySize=[np.size(tempLines),int(NOC/width)]"
   ]
  },
  {
   "cell_type": "code",
   "execution_count": 7,
   "metadata": {},
   "outputs": [],
   "source": [
    "tempLines=np.array([string[i:i+width] for string in tempLines for i in range(0, len(string), width)], dtype='U8')\n",
    "tempLines=np.reshape(tempLines,arraySize)"
   ]
  },
  {
   "cell_type": "code",
   "execution_count": 31,
   "metadata": {},
   "outputs": [
    {
     "name": "stdout",
     "output_type": "stream",
     "text": [
      "[[ 3.980063e+02  1.110105e+02 -3.600000e-16]\n",
      " [ 2.888333e+02  1.658903e+01  5.140000e+01]\n",
      " [ 3.928886e+02  5.997629e+01  2.062000e-09]\n",
      " ...\n",
      " [ 1.473481e+01  5.382186e+01  4.617890e+01]\n",
      " [ 2.247021e+02  1.841159e+01  7.874021e+01]\n",
      " [ 2.583589e+02  1.839150e+01 -7.517390e+01]]\n"
     ]
    }
   ],
   "source": [
    "tempGrid=tempLines[:,[3,4,5]]\n",
    "#tempGrid=tempGrid.astype(float)\n",
    "#tempGrid=np.core.defchararray.replace(tempGrid,\"+\",'e+', count=None)\n",
    "#tempGrid=np.core.defchararray.replace(tempGrid,\"-\",'e-', count=None)\n",
    "tempGrid = np.core.defchararray.replace(tempGrid, '-', 'e-')\n",
    "tempGrid = np.core.defchararray.replace(tempGrid, '+', 'e+')\n",
    "\n",
    "#tempGrid = np.array([i.lstrip(\"e\") if i.startswith(\"e\") else i for i in tempGrid ])\n",
    "\n",
    "remove_e = lambda x: x if x[0]!='e' else x[1:]\n",
    "remove_e = np.vectorize(remove_e)\n",
    "tempGrid = remove_e(tempGrid)\n",
    "\n",
    "tempGrid=tempGrid.astype(float)\n",
    "print(tempGrid)\n",
    "\n"
   ]
  },
  {
   "cell_type": "code",
   "execution_count": 28,
   "metadata": {},
   "outputs": [
    {
     "ename": "TypeError",
     "evalue": "replace() got an unexpected keyword argument 'where'",
     "output_type": "error",
     "traceback": [
      "\u001b[0;31m---------------------------------------------------------------------------\u001b[0m",
      "\u001b[0;31mTypeError\u001b[0m                                 Traceback (most recent call last)",
      "Cell \u001b[0;32mIn[28], line 7\u001b[0m\n\u001b[1;32m      4\u001b[0m arr \u001b[39m=\u001b[39m np\u001b[39m.\u001b[39marray([\u001b[39m'\u001b[39m\u001b[39m-5.75e-3\u001b[39m\u001b[39m'\u001b[39m, \u001b[39m'\u001b[39m\u001b[39m4.5e-2\u001b[39m\u001b[39m'\u001b[39m, \u001b[39m'\u001b[39m\u001b[39m6.2e-1\u001b[39m\u001b[39m'\u001b[39m])\n\u001b[1;32m      6\u001b[0m \u001b[39m#remove 'e' from string starting with 'e' using numpy.core.defchararray.replace()\u001b[39;00m\n\u001b[0;32m----> 7\u001b[0m arr \u001b[39m=\u001b[39m np\u001b[39m.\u001b[39;49mcore\u001b[39m.\u001b[39;49mdefchararray\u001b[39m.\u001b[39;49mreplace(arr, \u001b[39m'\u001b[39;49m\u001b[39me\u001b[39;49m\u001b[39m'\u001b[39;49m, \u001b[39m'\u001b[39;49m\u001b[39m'\u001b[39;49m, where\u001b[39m=\u001b[39;49m\u001b[39mlambda\u001b[39;49;00m x: x\u001b[39m.\u001b[39;49mstartswith(\u001b[39m'\u001b[39;49m\u001b[39me\u001b[39;49m\u001b[39m'\u001b[39;49m))\n\u001b[1;32m      9\u001b[0m \u001b[39mprint\u001b[39m(arr)\n",
      "File \u001b[0;32m<__array_function__ internals>:198\u001b[0m, in \u001b[0;36mreplace\u001b[0;34m(*args, **kwargs)\u001b[0m\n",
      "\u001b[0;31mTypeError\u001b[0m: replace() got an unexpected keyword argument 'where'"
     ]
    }
   ],
   "source": [
    "import numpy as np\n",
    "\n",
    "# Create a numpy array\n",
    "arr = np.array(['-5.75e-3', '4.5e-2', '6.2e-1'])\n",
    "\n",
    "#remove 'e' from string starting with 'e' using numpy.core.defchararray.replace()\n",
    "arr = np.core.defchararray.replace(arr, 'e', '', where=lambda x: x.startswith('e'))\n",
    "\n",
    "print(arr)"
   ]
  },
  {
   "cell_type": "code",
   "execution_count": null,
   "metadata": {},
   "outputs": [],
   "source": []
  }
 ],
 "metadata": {
  "kernelspec": {
   "display_name": ".venv_NAS",
   "language": "python",
   "name": "python3"
  },
  "language_info": {
   "codemirror_mode": {
    "name": "ipython",
    "version": 3
   },
   "file_extension": ".py",
   "mimetype": "text/x-python",
   "name": "python",
   "nbconvert_exporter": "python",
   "pygments_lexer": "ipython3",
   "version": "3.11.1"
  },
  "orig_nbformat": 4,
  "vscode": {
   "interpreter": {
    "hash": "938a8b4cc067138558cafff885bdbecd4ec2e1fc53bd87378d4386c29fc1f9db"
   }
  }
 },
 "nbformat": 4,
 "nbformat_minor": 2
}
