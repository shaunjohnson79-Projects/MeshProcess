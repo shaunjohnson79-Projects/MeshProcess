{
 "cells": [
  {
   "cell_type": "code",
   "execution_count": 8,
   "metadata": {},
   "outputs": [
    {
     "data": {
      "text/plain": [
       "array(['a1', 'a2', 'a3'], dtype='<U2')"
      ]
     },
     "execution_count": 8,
     "metadata": {},
     "output_type": "execute_result"
    }
   ],
   "source": [
    "import numpy as np\n",
    "\n",
    "dataArray = np.array(\n",
    "    ['apples a1', 'a1 foobar', 'cowboy a2', 'a2 asdasd', 'asdasd a3'])\n",
    "blah = np.array(['a1', 'a2', 'a3'])\n",
    "blah\n",
    "\n"
   ]
  },
  {
   "cell_type": "code",
   "execution_count": 11,
   "metadata": {},
   "outputs": [
    {
     "name": "stdout",
     "output_type": "stream",
     "text": [
      "[[False False False]\n",
      " [ True False False]\n",
      " [False False False]\n",
      " [False  True False]\n",
      " [False False False]]\n",
      "[[ True False False]\n",
      " [False False False]\n",
      " [False  True False]\n",
      " [False False False]\n",
      " [False False  True]]\n"
     ]
    }
   ],
   "source": [
    "mask_start = np.char.startswith(dataArray[:, np.newaxis], blah)\n",
    "mask_end = np.char.endswith(dataArray[:, np.newaxis], blah)\n",
    "print(mask_start)\n",
    "print(mask_end)\n",
    "\n",
    "\n"
   ]
  },
  {
   "cell_type": "code",
   "execution_count": null,
   "metadata": {},
   "outputs": [],
   "source": []
  },
  {
   "cell_type": "code",
   "execution_count": 4,
   "metadata": {},
   "outputs": [
    {
     "name": "stdout",
     "output_type": "stream",
     "text": [
      "[[ True False False]\n",
      " [ True False False]\n",
      " [False  True False]\n",
      " [False  True False]\n",
      " [False False  True]]\n",
      "[[False False False]\n",
      " [ True False False]\n",
      " [False False False]\n",
      " [False  True False]\n",
      " [False False False]]\n",
      "{'a2', 'a3', 'a1'}\n"
     ]
    }
   ],
   "source": [
    "import numpy as np\n",
    "\n",
    "dataArray = np.array(\n",
    "    ['apples a1', 'a1 foobar', 'cowboy a2', 'a2 asdasd', 'asdasd a3'])\n",
    "blah = np.array(['a1', 'a2', 'a3'])\n",
    "\n",
    "# Create a boolean mask that checks if each element of dataArray starts with or ends with any element of blah\n",
    "mask_start = np.char.startswith(dataArray[:, np.newaxis], blah)\n",
    "mask_end = np.char.endswith(dataArray[:, np.newaxis], blah)\n",
    "mask = np.logical_or(mask_start, mask_end)\n",
    "print(mask)\n",
    "\n",
    "print(mask_start)\n",
    "\n",
    "# Create a set of unique values in blah that appear in dataArray\n",
    "unique_blah = set(blah[np.any(mask, axis=0)])\n",
    "print(unique_blah)\n",
    "\n",
    "exit\n",
    "# Combine lines that start with or end with unique values of blah\n",
    "result = []\n",
    "for value in unique_blah:\n",
    "    mask_value = np.logical_or(np.char.startswith(\n",
    "        dataArray, value), np.char.endswith(dataArray, value))\n",
    "    lines_with_value = dataArray[mask_value]\n",
    "    result.append(' '.join(lines_with_value))\n",
    "\n",
    "# print(result)\n"
   ]
  },
  {
   "cell_type": "code",
   "execution_count": 5,
   "metadata": {},
   "outputs": [
    {
     "name": "stdout",
     "output_type": "stream",
     "text": [
      "[(875770417, 875770417)]\n"
     ]
    },
    {
     "name": "stderr",
     "output_type": "stream",
     "text": [
      "/var/folders/9k/s59cmnzs3p1f7qzm4xfwrpf40000gr/T/ipykernel_34731/2208058975.py:9: DeprecationWarning: The binary mode of fromstring is deprecated, as it behaves surprisingly on unicode inputs. Use frombuffer instead\n",
      "  data = np.fromstring(string, dtype=dtypes)\n"
     ]
    }
   ],
   "source": [
    "import numpy as np\n",
    "string = \"12341234\"\n",
    "widths = [4, 7, 5, 7, 5]\n",
    "\n",
    "# specify the data types of each column\n",
    "dtypes = [('col1', 'i4'), ('col2', 'i4')]\n",
    "\n",
    "# Use 'fromstring' to convert the string to a numpy array\n",
    "data = np.fromstring(string, dtype=dtypes)\n",
    "\n",
    "print(data)"
   ]
  },
  {
   "cell_type": "code",
   "execution_count": null,
   "metadata": {},
   "outputs": [],
   "source": []
  }
 ],
 "metadata": {
  "kernelspec": {
   "display_name": ".venv_NAS",
   "language": "python",
   "name": "python3"
  },
  "language_info": {
   "codemirror_mode": {
    "name": "ipython",
    "version": 3
   },
   "file_extension": ".py",
   "mimetype": "text/x-python",
   "name": "python",
   "nbconvert_exporter": "python",
   "pygments_lexer": "ipython3",
   "version": "3.11.1"
  },
  "orig_nbformat": 4,
  "vscode": {
   "interpreter": {
    "hash": "938a8b4cc067138558cafff885bdbecd4ec2e1fc53bd87378d4386c29fc1f9db"
   }
  }
 },
 "nbformat": 4,
 "nbformat_minor": 2
}
