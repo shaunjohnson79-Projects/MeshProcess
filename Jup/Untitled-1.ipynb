{
 "cells": [
  {
   "cell_type": "code",
   "execution_count": 37,
   "metadata": {},
   "outputs": [
    {
     "ename": "ValueError",
     "evalue": "don't know how to read character strings with that array type",
     "output_type": "error",
     "traceback": [
      "\u001b[0;31m---------------------------------------------------------------------------\u001b[0m",
      "\u001b[0;31mValueError\u001b[0m                                Traceback (most recent call last)",
      "Cell \u001b[0;32mIn[37], line 3\u001b[0m\n\u001b[1;32m      1\u001b[0m \u001b[39mimport\u001b[39;00m \u001b[39mnumpy\u001b[39;00m \u001b[39mas\u001b[39;00m \u001b[39mnp\u001b[39;00m\n\u001b[1;32m      2\u001b[0m string \u001b[39m=\u001b[39m \u001b[39m\"\u001b[39m\u001b[39m12344321\u001b[39m\u001b[39m\"\u001b[39m\n\u001b[0;32m----> 3\u001b[0m data \u001b[39m=\u001b[39m np\u001b[39m.\u001b[39;49mfromstring(string, dtype\u001b[39m=\u001b[39;49m{\u001b[39m'\u001b[39;49m\u001b[39mnames\u001b[39;49m\u001b[39m'\u001b[39;49m: (\u001b[39m'\u001b[39;49m\u001b[39mcol1\u001b[39;49m\u001b[39m'\u001b[39;49m, \u001b[39m'\u001b[39;49m\u001b[39mcol2\u001b[39;49m\u001b[39m'\u001b[39;49m), \u001b[39m'\u001b[39;49m\u001b[39mformats\u001b[39;49m\u001b[39m'\u001b[39;49m: (\u001b[39m'\u001b[39;49m\u001b[39mi4\u001b[39;49m\u001b[39m'\u001b[39;49m, \u001b[39m'\u001b[39;49m\u001b[39mi4\u001b[39;49m\u001b[39m'\u001b[39;49m)},sep\u001b[39m=\u001b[39;49m\u001b[39m'\u001b[39;49m\u001b[39m \u001b[39;49m\u001b[39m'\u001b[39;49m)\n\u001b[1;32m      4\u001b[0m \u001b[39mprint\u001b[39m(data)\n",
      "\u001b[0;31mValueError\u001b[0m: don't know how to read character strings with that array type"
     ]
    }
   ],
   "source": [
    "import numpy as np\n",
    "string = \"12344321\"\n",
    "data = np.fromstring(string, dtype={'names': ('col1', 'col2'), 'formats': ('i4', 'i4')},sep=' ')\n",
    "print(data)\n"
   ]
  },
  {
   "cell_type": "code",
   "execution_count": 46,
   "metadata": {},
   "outputs": [
    {
     "name": "stdout",
     "output_type": "stream",
     "text": [
      "[(875770417, 875770417)]\n"
     ]
    },
    {
     "name": "stderr",
     "output_type": "stream",
     "text": [
      "/var/folders/9k/s59cmnzs3p1f7qzm4xfwrpf40000gr/T/ipykernel_16711/2208058975.py:9: DeprecationWarning: The binary mode of fromstring is deprecated, as it behaves surprisingly on unicode inputs. Use frombuffer instead\n",
      "  data = np.fromstring(string, dtype=dtypes)\n"
     ]
    }
   ],
   "source": [
    "import numpy as np\n",
    "string = \"12341234\"\n",
    "widths = [4, 7, 5, 7, 5]\n",
    "\n",
    "# specify the data types of each column\n",
    "dtypes = [('col1', 'i4'), ('col2', 'i4')]\n",
    "\n",
    "# Use 'fromstring' to convert the string to a numpy array\n",
    "data = np.fromstring(string, dtype=dtypes)\n",
    "\n",
    "print(data)"
   ]
  },
  {
   "cell_type": "code",
   "execution_count": 42,
   "metadata": {},
   "outputs": [
    {
     "name": "stdout",
     "output_type": "stream",
     "text": [
      "(1234, 5.67, '  Hel', 89.01, '  Wor')\n"
     ]
    }
   ],
   "source": [
    "import numpy as np\n",
    "string = \"1234  5.67  Hello  89.01  World\"\n",
    "data = np.genfromtxt(string.splitlines(), delimiter=(4,6,7,7,7), dtype=dtypes)\n",
    "print(data)"
   ]
  },
  {
   "cell_type": "code",
   "execution_count": null,
   "metadata": {},
   "outputs": [],
   "source": [
    "import numpy as np\n",
    "string = \"12341234\"\n",
    "widths = [4, 7, 5, 7, 5]\n",
    "\n",
    "# specify the data types of each column\n",
    "dtypes = [('col1', 'i4'), ('col2', 'i4')]\n",
    "\n",
    "# Use 'fromstring' to convert the string to a numpy array\n",
    "data = np.fromstring(string, dtype=dtypes)"
   ]
  },
  {
   "cell_type": "code",
   "execution_count": 48,
   "metadata": {},
   "outputs": [
    {
     "name": "stderr",
     "output_type": "stream",
     "text": [
      "/var/folders/9k/s59cmnzs3p1f7qzm4xfwrpf40000gr/T/ipykernel_16711/2789754318.py:5: DeprecationWarning: The binary mode of fromstring is deprecated, as it behaves surprisingly on unicode inputs. Use frombuffer instead\n",
      "  data = np.fromstring(string, dtype=dtypes)\n"
     ]
    },
    {
     "ename": "ValueError",
     "evalue": "string size must be a multiple of element size",
     "output_type": "error",
     "traceback": [
      "\u001b[0;31m---------------------------------------------------------------------------\u001b[0m",
      "\u001b[0;31mValueError\u001b[0m                                Traceback (most recent call last)",
      "Cell \u001b[0;32mIn[48], line 5\u001b[0m\n\u001b[1;32m      3\u001b[0m string \u001b[39m=\u001b[39m \u001b[39m\"\u001b[39m\u001b[39mGRID           2       \u001b[39m\u001b[39m\"\u001b[39m\n\u001b[1;32m      4\u001b[0m dtypes \u001b[39m=\u001b[39m [(\u001b[39m'\u001b[39m\u001b[39mcol1\u001b[39m\u001b[39m'\u001b[39m, \u001b[39m'\u001b[39m\u001b[39mu8\u001b[39m\u001b[39m'\u001b[39m), (\u001b[39m'\u001b[39m\u001b[39mcol2\u001b[39m\u001b[39m'\u001b[39m, \u001b[39m'\u001b[39m\u001b[39mi8\u001b[39m\u001b[39m'\u001b[39m),(\u001b[39m'\u001b[39m\u001b[39mcol3\u001b[39m\u001b[39m'\u001b[39m, \u001b[39m'\u001b[39m\u001b[39mi8\u001b[39m\u001b[39m'\u001b[39m)]\n\u001b[0;32m----> 5\u001b[0m data \u001b[39m=\u001b[39m np\u001b[39m.\u001b[39;49mfromstring(string, dtype\u001b[39m=\u001b[39;49mdtypes)\n",
      "\u001b[0;31mValueError\u001b[0m: string size must be a multiple of element size"
     ]
    }
   ],
   "source": [
    "import numpy as np\n",
    "string = \"GRID           2       0288.833316.5890351.40000       0               0        \"\n",
    "string = \"GRID           2        \"\n",
    "dtypes = [('col1', 'u8'), ('col2', 'i8'),('col3', 'i8')]\n",
    "data = np.fromstring(string, dtype=dtypes)"
   ]
  },
  {
   "cell_type": "code",
   "execution_count": null,
   "metadata": {},
   "outputs": [],
   "source": []
  }
 ],
 "metadata": {
  "kernelspec": {
   "display_name": ".venv_NAS",
   "language": "python",
   "name": "python3"
  },
  "language_info": {
   "codemirror_mode": {
    "name": "ipython",
    "version": 3
   },
   "file_extension": ".py",
   "mimetype": "text/x-python",
   "name": "python",
   "nbconvert_exporter": "python",
   "pygments_lexer": "ipython3",
   "version": "3.11.1"
  },
  "orig_nbformat": 4,
  "vscode": {
   "interpreter": {
    "hash": "938a8b4cc067138558cafff885bdbecd4ec2e1fc53bd87378d4386c29fc1f9db"
   }
  }
 },
 "nbformat": 4,
 "nbformat_minor": 2
}
